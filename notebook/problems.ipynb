{
    "cells": [
        {
            "cell_type": "markdown",
            "id": "ac622319",
            "metadata": {},
            "source": [
                "# Descriptive statistics problems"
            ]
        },
        {
            "cell_type": "markdown",
            "id": "aa8993e4",
            "metadata": {},
            "source": [
                "### Exercise 1"
            ]
        },
        {
            "cell_type": "markdown",
            "id": "5e0ab0d5",
            "metadata": {},
            "source": [
                "We will use Numpy to obtain information to describe statistically.\n",
                "\n",
                "- Generate an array of 100 elements following a normal distribution.\n",
                "- Generate an array of 100 elements following a chi-square distribution with 3 degrees of freedom.\n",
                "- Calculate the main metrics and statistical measures that best describe the two vectors."
            ]
        },
        {
            "cell_type": "code",
            "execution_count": 7,
            "id": "34720ab6",
            "metadata": {},
            "outputs": [
                {
                    "name": "stdout",
                    "output_type": "stream",
                    "text": [
                        "Normal vector: [-2.34951463 -0.52218041 -0.06550604  0.43944175  0.63253446  0.98463563\n",
                        "  0.33387625 -1.27362419  0.65420924 -0.70328897 -0.07307867 -0.25022766\n",
                        " -0.18504806 -0.44506629  1.94123734 -1.18496048  1.51176905 -0.07436108\n",
                        "  1.55278658 -0.30829116  1.28489906  2.09682206 -0.97706507  0.24559481\n",
                        " -0.74900729  0.42896292 -0.51364177  1.08691414  0.58558203 -0.15890579\n",
                        " -1.66240654 -3.1850478   0.99105785 -0.47906858 -0.80023675  2.20483211\n",
                        " -0.90085653 -0.67664159  0.58548917  0.66556091 -2.1303208  -0.64586391\n",
                        " -0.61151113  2.99147962 -0.15426981 -0.37983611 -0.27254514 -1.90958176\n",
                        "  0.3382997   1.28834874 -0.69432886  0.00631399 -0.40536984 -0.56365303\n",
                        "  0.38212942  0.60496502  0.4495579  -0.0712509   0.98469458  2.28113458\n",
                        " -1.15282973 -1.5615454   0.17357515 -0.07667464 -2.30794644 -0.49021755\n",
                        "  0.86809351 -0.42946423  2.2854833   0.92976468 -1.31834208 -1.10378738\n",
                        " -0.38107324  0.11148765  1.91729177 -0.31739371  0.2660898   0.46274459\n",
                        "  0.46546768 -1.3662621   0.91623483 -0.07900446 -0.74549849 -0.22588051\n",
                        " -1.84557052  2.46628464  0.27219731  1.29156471  1.72421481  1.09426504\n",
                        " -0.10988088  1.57566815 -0.48639096  0.27542911  1.02006374 -1.84521215\n",
                        " -0.75815731  0.95135736 -0.46685216 -0.50388664]\n",
                        "\n",
                        "Chi-square vector: [1.66041425 3.45530831 6.39119398 1.9384821  2.79858478 0.36985981\n",
                        " 3.53998972 6.32737293 4.52444081 1.19303602 0.15703077 3.70058689\n",
                        " 1.33117771 0.47212513 4.80119031 0.84817249 1.98353203 2.26132482\n",
                        " 7.04703724 5.93725941 4.8817814  7.20385013 2.10641444 3.93735472\n",
                        " 6.35702184 5.09964138 7.95185459 1.19964819 1.40092734 2.92903206\n",
                        " 3.92519411 4.50799044 3.29948893 1.62985439 5.19826405 0.78623175\n",
                        " 1.38668146 3.25711228 4.89599066 1.79677795 0.84121929 1.16903607\n",
                        " 1.43083612 1.07070968 2.93361006 2.92577384 0.43230851 3.16149483\n",
                        " 0.60036913 2.70467389 4.634328   4.89735485 0.35155951 2.84039077\n",
                        " 3.32910858 7.88338324 2.42082642 1.57520078 5.83274364 0.81987199\n",
                        " 3.74653649 1.87774975 2.22049213 2.0312842  4.78377645 2.60399219\n",
                        " 1.14302509 3.16643211 3.24360965 0.7585833  4.0343256  4.12101656\n",
                        " 1.61798621 4.9749201  4.85413995 3.74798865 7.8616427  9.08198549\n",
                        " 1.83958278 0.84638268 1.2184806  5.07593835 1.22401746 1.84153629\n",
                        " 1.12018592 0.72840958 2.39434854 4.96469922 0.42892699 1.77574367\n",
                        " 4.11378344 0.96885452 3.44080065 4.24949494 1.20002301 7.95180379\n",
                        " 2.79243745 0.92558056 1.77362511 4.45048969]\n",
                        "\n",
                        "Statistics for Normal Distribution:\n",
                        "Mean: 0.0367197951669782\n",
                        "Standard Deviation: 1.1443788398802526\n",
                        "Median: -0.07551786119655532\n",
                        "Variance: 1.3096029291656726\n",
                        "Min: -3.1850477962215495\n",
                        "Max: 2.99147961649275\n",
                        "\n",
                        "Statistics for Chi-Square Distribution:\n",
                        "Mean: 3.0753866266886494\n",
                        "Standard Deviation: 2.074958536321055\n",
                        "Median: 2.7955111184353725\n",
                        "Variance: 4.305452927451617\n",
                        "Min: 0.15703076500163549\n",
                        "Max: 9.081985489374226\n",
                        "\n"
                    ]
                }
            ],
            "source": [
                "import numpy as np\n",
                "\n",
                "normal = np.random.normal(size=100) # Array normal distribution\n",
                "chi = np.random.chisquare(df=3, size=100) # Array chi-square degrees of freedom 3\n",
                "\n",
                "#Print vectors\n",
                "print(f\"Normal vector: {normal}\\n\")\n",
                "print(f\"Chi-square vector: {chi}\\n\")\n",
                "\n",
                "# Crear los Array\n",
                "datasets = [\n",
                "    (normal, \"Normal Distribution\"), # Array normal distribution\n",
                "    (chi, \"Chi-Square Distribution\") # Array chi-square degrees of freedom 3\n",
                "]\n",
                "\n",
                "# Iterate through datasets and print statistics\n",
                "for data, label in datasets:\n",
                "    mean = np.mean(data)\n",
                "    std_dev = np.std(data)\n",
                "    median = np.median(data)\n",
                "    variance = np.var(data)\n",
                "    min_val = np.min(data)\n",
                "    max_val = np.max(data)\n",
                "    \n",
                "    print(f\"Statistics for {label}:\")\n",
                "    print(f\"Mean: {mean}\")\n",
                "    print(f\"Standard Deviation: {std_dev}\")\n",
                "    print(f\"Median: {median}\")\n",
                "    print(f\"Variance: {variance}\")\n",
                "    print(f\"Min: {min_val}\")\n",
                "    print(f\"Max: {max_val}\")\n",
                "    print()\n"
            ]
        },
        {
            "cell_type": "markdown",
            "id": "46c70c3d",
            "metadata": {},
            "source": [
                "### Exercise 2\n",
                "\n",
                "Write a Python program to calculate the standard deviation of the following data:\n",
                "\n",
                "```py\n",
                "data = [4, 2, 5, 8, 6]\n",
                "```"
            ]
        },
        {
            "cell_type": "code",
            "execution_count": 8,
            "id": "d590308e",
            "metadata": {},
            "outputs": [
                {
                    "name": "stdout",
                    "output_type": "stream",
                    "text": [
                        "The Standard deviation is: 2.0\n"
                    ]
                }
            ],
            "source": [
                "data = [4, 2, 5, 8, 6]\n",
                "\n",
                "def desviacion(y):\n",
                "    media = sum(y) / len(y)\n",
                "    cuadrado = sum((x - media)**2 for x in y)\n",
                "    desv = (cuadrado / len(y)) **0.5\n",
                "    return desv\n",
                "\n",
                "print(\"The Standard deviation is:\", desviacion(data))"
            ]
        }
    ],
    "metadata": {
        "interpreter": {
            "hash": "9248718ffe6ce6938b217e69dbcc175ea21f4c6b28a317e96c05334edae734bb"
        },
        "kernelspec": {
            "display_name": "Python 3.9.12 ('ML-BOOTCAMP')",
            "language": "python",
            "name": "python3"
        },
        "language_info": {
            "codemirror_mode": {
                "name": "ipython",
                "version": 3
            },
            "file_extension": ".py",
            "mimetype": "text/x-python",
            "name": "python",
            "nbconvert_exporter": "python",
            "pygments_lexer": "ipython3",
            "version": "3.11.4"
        }
    },
    "nbformat": 4,
    "nbformat_minor": 5
}
