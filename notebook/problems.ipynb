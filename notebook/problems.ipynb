{
    "cells": [
        {
            "cell_type": "markdown",
            "id": "ac622319",
            "metadata": {},
            "source": [
                "# Descriptive statistics problems"
            ]
        },
        {
            "cell_type": "markdown",
            "id": "aa8993e4",
            "metadata": {},
            "source": [
                "### Exercise 1"
            ]
        },
        {
            "cell_type": "markdown",
            "id": "5e0ab0d5",
            "metadata": {},
            "source": [
                "We will use Numpy to obtain information to describe statistically.\n",
                "\n",
                "- Generate an array of 100 elements following a normal distribution.\n",
                "- Generate an array of 100 elements following a chi-square distribution with 3 degrees of freedom.\n",
                "- Calculate the main metrics and statistical measures that best describe the two vectors."
            ]
        },
        {
            "cell_type": "code",
            "execution_count": 7,
            "id": "34720ab6",
            "metadata": {},
            "outputs": [
                {
                    "name": "stdout",
                    "output_type": "stream",
                    "text": [
                        "Statistics for Normal Distribution:\n",
                        "Mean: -0.00290882628209038\n",
                        "Standard Deviation: 0.9417328592505336\n",
                        "Median: 0.07894802456607278\n",
                        "Variance: 0.8868607781921853\n",
                        "Min: -2.486138403392563\n",
                        "Max: 2.994919256281876\n",
                        "\n",
                        "Statistics for Chi-Square Distribution:\n",
                        "Mean: 3.141641429274847\n",
                        "Standard Deviation: 2.323401280755622\n",
                        "Median: 2.542357369954278\n",
                        "Variance: 5.398193511416864\n",
                        "Min: 0.2377670867512052\n",
                        "Max: 12.766352331045919\n",
                        "\n"
                    ]
                }
            ],
            "source": [
                "import numpy as np\n",
                "\n",
                "# Crear los Array\n",
                "datasets = [\n",
                "    (np.random.normal(size=100), \"Normal Distribution\"), # Array normal distribution\n",
                "    (np.random.chisquare(df=3, size=100), \"Chi-Square Distribution\") # Array chi-square degrees of freedom 3\n",
                "]\n",
                "\n",
                "# Iterate through datasets and print statistics\n",
                "for data, label in datasets:\n",
                "    mean = np.mean(data)\n",
                "    std_dev = np.std(data)\n",
                "    median = np.median(data)\n",
                "    variance = np.var(data)\n",
                "    min_val = np.min(data)\n",
                "    max_val = np.max(data)\n",
                "    \n",
                "    print(f\"Statistics for {label}:\")\n",
                "    print(f\"Mean: {mean}\")\n",
                "    print(f\"Standard Deviation: {std_dev}\")\n",
                "    print(f\"Median: {median}\")\n",
                "    print(f\"Variance: {variance}\")\n",
                "    print(f\"Min: {min_val}\")\n",
                "    print(f\"Max: {max_val}\")\n",
                "    print()\n"
            ]
        },
        {
            "cell_type": "markdown",
            "id": "46c70c3d",
            "metadata": {},
            "source": [
                "### Exercise 2\n",
                "\n",
                "Write a Python program to calculate the standard deviation of the following data:\n",
                "\n",
                "```py\n",
                "data = [4, 2, 5, 8, 6]\n",
                "```"
            ]
        },
        {
            "cell_type": "code",
            "execution_count": 20,
            "id": "d590308e",
            "metadata": {},
            "outputs": [
                {
                    "name": "stdout",
                    "output_type": "stream",
                    "text": [
                        "The Standard deviation is: 2.0\n"
                    ]
                }
            ],
            "source": [
                "data = [4, 2, 5, 8, 6]\n",
                "\n",
                "def desviacion(y):\n",
                "    media = sum(y) / len(y)\n",
                "    cuadrado = sum((x - media)**2 for x in y)\n",
                "    desv = (cuadrado / len(y)) **0.5\n",
                "    return desv\n",
                "\n",
                "print(\"The Standard deviation is:\", desviacion(data))"
            ]
        }
    ],
    "metadata": {
        "interpreter": {
            "hash": "9248718ffe6ce6938b217e69dbcc175ea21f4c6b28a317e96c05334edae734bb"
        },
        "kernelspec": {
            "display_name": "Python 3.9.12 ('ML-BOOTCAMP')",
            "language": "python",
            "name": "python3"
        },
        "language_info": {
            "codemirror_mode": {
                "name": "ipython",
                "version": 3
            },
            "file_extension": ".py",
            "mimetype": "text/x-python",
            "name": "python",
            "nbconvert_exporter": "python",
            "pygments_lexer": "ipython3",
            "version": "3.11.4"
        }
    },
    "nbformat": 4,
    "nbformat_minor": 5
}
